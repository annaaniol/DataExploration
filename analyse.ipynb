{
 "cells": [
  {
   "cell_type": "code",
   "execution_count": 72,
   "metadata": {},
   "outputs": [],
   "source": [
    "from sqlalchemy import create_engine\n",
    "from sqlalchemy.orm import sessionmaker\n",
    "from sqlalchemy.schema import Table, DropTable\n",
    "import pandas as pd\n",
    "import os.path\n",
    "\n",
    "data_sufix = 'data/'"
   ]
  },
  {
   "cell_type": "code",
   "execution_count": 73,
   "metadata": {},
   "outputs": [],
   "source": [
    "Session = sessionmaker()\n",
    "engine = create_engine('sqlite:///twitter.db')"
   ]
  },
  {
   "cell_type": "code",
   "execution_count": 74,
   "metadata": {},
   "outputs": [],
   "source": [
    "hashtags = ['h1b', 'usvisa', 'immigrationreform', 'illegalImmigration', 'immigration',\n",
    "'immigrantcaravan', 'caravaninvasion', 'buildthewall']\n",
    "remaining_hashtags = ['illegalaliens', 'birthrightcitizenship']"
   ]
  },
  {
   "cell_type": "code",
   "execution_count": null,
   "metadata": {},
   "outputs": [],
   "source": []
  },
  {
   "cell_type": "code",
   "execution_count": 75,
   "metadata": {},
   "outputs": [
    {
     "name": "stdout",
     "output_type": "stream",
     "text": [
      "                  tag  tweets  distinct_tweeting_users\n",
      "0        buildthewall    8608                     3903\n",
      "1         immigration    3829                     2676\n",
      "2     caravaninvasion    3172                     1919\n",
      "3  illegalImmigration     751                      430\n",
      "4    immigrantcaravan     356                      307\n",
      "5   immigrationreform     304                      213\n",
      "6                 h1b     181                       65\n",
      "7              usvisa      19                       12\n"
     ]
    }
   ],
   "source": [
    "resTweets = pd.read_sql_query('SELECT hashtag.name AS tag, COUNT(tweet.tweet_id) AS tweets, \\\n",
    "COUNT (DISTINCT user.user_id) AS distinct_tweeting_users \\\n",
    "FROM hashtag \\\n",
    "JOIN tweet ON tweet.hashtag_id = hashtag.id \\\n",
    "JOIN user ON tweet.user_id = user.user_id \\\n",
    "GROUP BY hashtag.name \\\n",
    "ORDER BY COUNT(tweet.tweet_id) DESC', engine)\n",
    "print(resTweets)"
   ]
  },
  {
   "cell_type": "code",
   "execution_count": 76,
   "metadata": {},
   "outputs": [
    {
     "name": "stdout",
     "output_type": "stream",
     "text": [
      "                  tag  retweets\n",
      "0        buildthewall     54934\n",
      "1     caravaninvasion     14814\n",
      "2         immigration      9148\n",
      "3  illegalImmigration      2680\n",
      "4    immigrantcaravan      1675\n",
      "5   immigrationreform       422\n",
      "6                 h1b       213\n",
      "7              usvisa         5\n"
     ]
    }
   ],
   "source": [
    "resTweets = pd.read_sql_query('SELECT hashtag.name AS tag, COUNT(retweet.retweet_id) AS retweets \\\n",
    "FROM hashtag \\\n",
    "JOIN tweet ON tweet.hashtag_id = hashtag.id \\\n",
    "JOIN retweet ON retweet.source_tweet_id = tweet.tweet_id \\\n",
    "GROUP BY hashtag.name \\\n",
    "ORDER BY COUNT(retweet.retweet_id) DESC', engine)\n",
    "print(resTweets)"
   ]
  },
  {
   "cell_type": "code",
   "execution_count": 77,
   "metadata": {},
   "outputs": [
    {
     "name": "stdout",
     "output_type": "stream",
     "text": [
      "                   tag        date  tweets_per_day\n",
      "0         buildthewall  2018-10-27            1474\n",
      "1         buildthewall  2018-10-28            1703\n",
      "2         buildthewall  2018-10-29            2589\n",
      "3         buildthewall  2018-10-30            2842\n",
      "4      caravaninvasion  2018-10-27             594\n",
      "5      caravaninvasion  2018-10-28             492\n",
      "6      caravaninvasion  2018-10-29             941\n",
      "7      caravaninvasion  2018-10-30            1145\n",
      "8                  h1b  2018-10-27              33\n",
      "9                  h1b  2018-10-28              26\n",
      "10                 h1b  2018-10-29              56\n",
      "11                 h1b  2018-10-30              66\n",
      "12  illegalImmigration  2018-10-27             116\n",
      "13  illegalImmigration  2018-10-28             119\n",
      "14  illegalImmigration  2018-10-29             208\n",
      "15  illegalImmigration  2018-10-30             308\n",
      "16    immigrantcaravan  2018-10-27              58\n",
      "17    immigrantcaravan  2018-10-28              48\n",
      "18    immigrantcaravan  2018-10-29              55\n",
      "19    immigrantcaravan  2018-10-30             195\n",
      "20         immigration  2018-10-27             634\n",
      "21         immigration  2018-10-28             527\n",
      "22         immigration  2018-10-29            1049\n",
      "23         immigration  2018-10-30            1619\n",
      "24   immigrationreform  2018-10-29              74\n",
      "25   immigrationreform  2018-10-30             230\n",
      "26              usvisa  2018-10-27               1\n",
      "27              usvisa  2018-10-28               1\n",
      "28              usvisa  2018-10-29              10\n",
      "29              usvisa  2018-10-30               7\n"
     ]
    }
   ],
   "source": [
    "resDatesTags = pd.read_sql_query('SELECT hashtag.name AS tag, DATE(tweet_created_at) AS date, \\\n",
    "COUNT(DISTINCT tweet_id) AS tweets_per_day \\\n",
    "FROM hashtag \\\n",
    "JOIN tweet ON tweet.hashtag_id = hashtag.id \\\n",
    "GROUP BY hashtag.name, DATE(tweet_created_at)', engine)\n",
    "print(resDatesTags)"
   ]
  },
  {
   "cell_type": "code",
   "execution_count": 78,
   "metadata": {},
   "outputs": [
    {
     "name": "stdout",
     "output_type": "stream",
     "text": [
      "         date  tweets_per_day  distinct_users_per_day\n",
      "0  2018-10-27            2779                    1868\n",
      "1  2018-10-28            2803                    1819\n",
      "2  2018-10-29            4783                    3027\n",
      "3  2018-10-30            6079                    3957\n"
     ]
    }
   ],
   "source": [
    "resDates = pd.read_sql_query('SELECT DATE(tweet_created_at) AS date, \\\n",
    "COUNT(DISTINCT tweet.tweet_id) AS tweets_per_day, \\\n",
    "COUNT(DISTINCT user.user_id) AS distinct_users_per_day \\\n",
    "FROM tweet \\\n",
    "JOIN user ON tweet.user_id = user.user_id \\\n",
    "GROUP BY DATE(tweet_created_at)', engine)\n",
    "print(resDates)"
   ]
  },
  {
   "cell_type": "code",
   "execution_count": 79,
   "metadata": {},
   "outputs": [
    {
     "name": "stdout",
     "output_type": "stream",
     "text": [
      "   total_retweets  tweets_got_retweeted  followers                        user\n",
      "0            7852                     5      92129                Patriot Gary\n",
      "1            6489                     1      66644                   TheKat ❤️\n",
      "2            5107                     4      34121                        Cody\n",
      "3            3303                    53      21566    fordnFLA777 (K)♥️✝️ ❤️✡️\n",
      "4            1717                     3      73262            🇺🇸 SKY45 🇺🇸 ︻デ═一\n",
      "5            1538                    27      20299       GO RED STATE BY STATE\n",
      "6            1461                     2     178318    🦅 🦅 Nationalist Eagle 🦅🦅\n",
      "7            1412                     3      25052            Jennifer 🔱🇺🇸🔱🌟🌟🌟\n",
      "8            1192                     1      34039  Chris  🇺🇸 Let Freedom Ring\n",
      "9            1127                     3      58527              Laura Vote Red\n"
     ]
    }
   ],
   "source": [
    "# Korelacja pomiędzy followers_count usera a łączną liczbą retweetów postów usera\n",
    "# Wyłonienie najbardziej wpływowych użytkowników sieci\n",
    "\n",
    "resRetweetUserFriends = pd.read_sql_query('SELECT COUNT(DISTINCT retweet.retweet_id) AS total_retweets, \\\n",
    "COUNT(DISTINCT tweet.tweet_id) AS tweets_got_retweeted, \\\n",
    "user.followers_count AS followers, user.user_name as user \\\n",
    "FROM retweet \\\n",
    "INNER JOIN tweet ON retweet.source_tweet_id = tweet.tweet_id \\\n",
    "INNER JOIN user ON tweet.user_id = user.user_id \\\n",
    "GROUP BY(user.user_id) \\\n",
    "ORDER BY COUNT(DISTINCT retweet.retweet_id) DESC \\\n",
    "LIMIT 10', engine)\n",
    "print(resRetweetUserFriends)"
   ]
  },
  {
   "cell_type": "code",
   "execution_count": null,
   "metadata": {},
   "outputs": [],
   "source": []
  }
 ],
 "metadata": {
  "kernelspec": {
   "display_name": "Python 3",
   "language": "python",
   "name": "python3"
  },
  "language_info": {
   "codemirror_mode": {
    "name": "ipython",
    "version": 3
   },
   "file_extension": ".py",
   "mimetype": "text/x-python",
   "name": "python",
   "nbconvert_exporter": "python",
   "pygments_lexer": "ipython3",
   "version": "3.6.4"
  }
 },
 "nbformat": 4,
 "nbformat_minor": 2
}
