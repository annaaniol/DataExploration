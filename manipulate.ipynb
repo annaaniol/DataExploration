{
 "cells": [
  {
   "cell_type": "code",
   "execution_count": 1,
   "metadata": {},
   "outputs": [],
   "source": [
    "import csv\n",
    "import pandas as pd\n",
    "hashtags = ['test']"
   ]
  },
  {
   "cell_type": "code",
   "execution_count": 57,
   "metadata": {},
   "outputs": [],
   "source": [
    "for hashtag in hashtags:\n",
    "    with open(hashtag+'.csv', 'r', encoding='utf-8') as csvfile, open('final_'+hashtag+'.csv', 'a', encoding='utf-8') as csvFinalFile, open('hashtag_'+hashtag+'.csv', 'a', encoding='utf-8') as csvHashtagFile:\n",
    "        csvFinalWriter = csv.writer(csvFinalFile)\n",
    "        csvHashtagWriter = csv.writer(csvHashtagFile)\n",
    "        spamreader = csv.reader(csvfile, delimiter=',')\n",
    "        csvFinalWriter.writerow(next(spamreader)) # copy header\n",
    "        csvHashtagWriter.writerow([\"tweet_id\", \"hashtag_name\"]) # add header\n",
    "        for tweet in spamreader:\n",
    "            if(len(tweet)>0):\n",
    "                text=tweet[2]\n",
    "#                 print(tweet)\n",
    "                if(text.startswith( 'b\\'RT ' )):\n",
    "                    tweet[1]=True\n",
    "                else:\n",
    "                    tweet[1]=False\n",
    "                htags={text.strip(\"#\").lower() for text in text.split() if text.startswith(\"#\")}\n",
    "#                 print(\"Manipulate: \", tweet) # tweet\n",
    "                for htag in htags:\n",
    "                    csvHashtagWriter.writerow([tweet[0] , htag])\n",
    "                csvFinalWriter.writerow(tweet)"
   ]
  },
  {
   "cell_type": "code",
   "execution_count": 58,
   "metadata": {},
   "outputs": [],
   "source": [
    "csvfile.close()\n",
    "csvFinalFile.close()\n",
    "csvHashtagFile.close()"
   ]
  },
  {
   "cell_type": "code",
   "execution_count": null,
   "metadata": {},
   "outputs": [],
   "source": []
  }
 ],
 "metadata": {
  "kernelspec": {
   "display_name": "Python 3",
   "language": "python",
   "name": "python3"
  },
  "language_info": {
   "codemirror_mode": {
    "name": "ipython",
    "version": 3
   },
   "file_extension": ".py",
   "mimetype": "text/x-python",
   "name": "python",
   "nbconvert_exporter": "python",
   "pygments_lexer": "ipython3",
   "version": "3.7.0"
  }
 },
 "nbformat": 4,
 "nbformat_minor": 2
}
