{
 "cells": [
  {
   "cell_type": "code",
   "execution_count": 108,
   "metadata": {},
   "outputs": [],
   "source": [
    "import tweepy\n",
    "import csv\n",
    "from sqlalchemy import create_engine\n",
    "from sqlalchemy.orm import sessionmaker\n",
    "import pandas as pd\n",
    "from sqlalchemy import create_engine\n",
    "from sqlalchemy.orm import sessionmaker\n",
    "import os.path\n",
    "\n",
    "consumer_key = ''\n",
    "consumer_secret = ''\n",
    "access_token = ''\n",
    "access_token_secret = ''\n",
    "\n",
    "auth = tweepy.OAuthHandler(consumer_key, consumer_secret)\n",
    "auth.set_access_token(access_token, access_token_secret)\n",
    "api = tweepy.API(auth,wait_on_rate_limit=True)\n",
    "\n",
    "data_sufix = 'data/'"
   ]
  },
  {
   "cell_type": "code",
   "execution_count": 109,
   "metadata": {},
   "outputs": [],
   "source": [
    "if not os.path.isdir(data_sufix):\n",
    "    os.system('mkdir '+data_sufix)"
   ]
  },
  {
   "cell_type": "code",
   "execution_count": 110,
   "metadata": {},
   "outputs": [],
   "source": [
    "def create_files_if_not_present(hashtag):\n",
    "    if not os.path.isfile(data_sufix+hashtag+'-tweet.csv'):\n",
    "        with open(data_sufix+hashtag+'-tweet.csv', 'a') as csvfile:\n",
    "            csvwriter = csv.writer(csvfile)\n",
    "            csvwriter.writerow(['tweet_id', 'tweet_text', 'tweet_created_at', \n",
    "                               'tweet_retweet_count', 'tweet_favorite_count', 'user_id'])\n",
    "        csvfile.close()\n",
    "    if not os.path.isfile(data_sufix+hashtag+'-retweet.csv'):\n",
    "        with open(data_sufix+hashtag+'-retweet.csv', 'a') as csvfile:\n",
    "            csvwriter = csv.writer(csvfile)\n",
    "            csvwriter.writerow(['retweet_id','source_tweet_id','retweet_text','retweet_created_at', 'user_id'])\n",
    "        csvfile.close()"
   ]
  },
  {
   "cell_type": "code",
   "execution_count": 111,
   "metadata": {},
   "outputs": [],
   "source": [
    "def write_user_to_csv(user):\n",
    "    with open(data_sufix+'user.csv', 'a') as csvfile:\n",
    "        csvwriter = csv.writer(csvfile)\n",
    "        csvwriter.writerow([user.id, user.name, user.location, user.friends_count, user.followers_count])\n",
    "    csvfile.close()"
   ]
  },
  {
   "cell_type": "code",
   "execution_count": 112,
   "metadata": {},
   "outputs": [],
   "source": [
    "def write_tweet_to_csv(tweet, hashtag):\n",
    "    with open(data_sufix+hashtag+'-tweet.csv', 'a') as csvfile:\n",
    "        csvwriter = csv.writer(csvfile)\n",
    "        csvwriter.writerow([tweet.id, tweet.text.encode(\"utf-8\"), tweet.created_at, \n",
    "                            tweet.retweet_count, tweet.favorite_count, tweet.user.id])\n",
    "    csvfile.close()"
   ]
  },
  {
   "cell_type": "code",
   "execution_count": 113,
   "metadata": {},
   "outputs": [],
   "source": [
    "def write_retweet_to_csv(retweet, hashtag):\n",
    "    with open(data_sufix+hashtag+'-retweet.csv', 'a') as csvfile:\n",
    "        csvwriter = csv.writer(csvfile)\n",
    "        csvwriter.writerow([retweet.id, retweet.retweeted_status.id, retweet.text.encode(\"utf-8\"),\n",
    "                            retweet.created_at, retweet.user.id])\n",
    "    csvfile.close()"
   ]
  },
  {
   "cell_type": "code",
   "execution_count": 114,
   "metadata": {},
   "outputs": [],
   "source": [
    "def write_all_to_file(tweet, hashtag):\n",
    "    with open(data_sufix+'all-'+hashtag+'.csv', 'a') as file:\n",
    "        writer = csv.writer(file)\n",
    "        writer.writerows(tweet.__dict__.items())\n",
    "    file.close()"
   ]
  },
  {
   "cell_type": "code",
   "execution_count": 115,
   "metadata": {},
   "outputs": [],
   "source": [
    "if not os.path.isfile(data_sufix+'user.csv'):\n",
    "        with open(data_sufix+'user.csv', 'w') as csvfile:\n",
    "            csvwriter = csv.writer(csvfile)\n",
    "            csvwriter.writerow(['user_id','user_name','user_location','user_friends_count','followers_count'])\n",
    "        csvfile.close()\n",
    "        \n",
    "userData = pd.read_csv(data_sufix+'user.csv', usecols=['user_id'])\n",
    "already_collected_users = [user_id for user_id in userData.user_id]"
   ]
  },
  {
   "cell_type": "code",
   "execution_count": null,
   "metadata": {},
   "outputs": [],
   "source": [
    "hashtags = ['h1b', 'usvisa', 'immigrationreform', 'illegalImmigration', 'immigration',\n",
    "'immigrantcaravan', 'caravaninvasion', 'buildthewall', 'illegalaliens', 'birthrightcitizenship']"
   ]
  },
  {
   "cell_type": "code",
   "execution_count": null,
   "metadata": {},
   "outputs": [],
   "source": [
    "for hashtag in hashtags:\n",
    "    \n",
    "    create_files_if_not_present(hashtag)\n",
    "    \n",
    "    tweetData = pd.read_csv(data_sufix+hashtag+'-tweet.csv', usecols=['tweet_id'])\n",
    "    already_collected_tweets = [tweet_id for tweet_id in tweetData.tweet_id]\n",
    "    \n",
    "    searched_tweets = [status for status in tweepy.Cursor(api.search, q='#'+hashtag, lang=\"en\", since='2018-10-27', until='2018-10-31').items()]\n",
    "    \n",
    "    tweet_count = 0\n",
    "    retweet_count = 0\n",
    "    ignored_count = 0\n",
    "    \n",
    "    for tweet in reversed(searched_tweets): # reversed to process older tweets first\n",
    "        action = False\n",
    "        write_all_to_file(tweet, hashtag)\n",
    "        if hasattr(tweet,'retweeted_status'): # it is a retweet\n",
    "            if(tweet.retweeted_status.id in already_collected_tweets): # base tweet has already been saved\n",
    "                write_retweet_to_csv(tweet, hashtag)\n",
    "                action = True\n",
    "                retweet_count += 1\n",
    "            else: # if base tweet not saved - ignore retweet\n",
    "                ignored_count += 1\n",
    "        else: # it is not a retweet\n",
    "            already_collected_tweets.append(tweet.id)\n",
    "            write_tweet_to_csv(tweet, hashtag)\n",
    "            action = True\n",
    "            tweet_count += 1\n",
    "        if(tweet.user.id not in already_collected_users and action is True):\n",
    "            already_collected_users.append(tweet.user.id)\n",
    "            write_user_to_csv(tweet.user)\n",
    "            \n",
    "    print('For', hashtag, '(', len(searched_tweets), ') :\\ntweets - ', tweet_count,\n",
    "          '\\nretweets - ', retweet_count, '\\nignored - ', ignored_count)"
   ]
  },
  {
   "cell_type": "code",
   "execution_count": null,
   "metadata": {},
   "outputs": [],
   "source": [
    "# Retweeted metrics:\n",
    "# tweet.retweeted - Indicates whether this Tweet has been Retweeted by the authenticating user\n",
    "# tweet.retweet_count - Number of times this (original, source!!!) Tweet has been retweeted\n",
    "# tweet.retweeted_status - Retweets can be distinguished from typical Tweets by the existence of a retweeted_status \n",
    "#                          attribute. This attribute contains a representation of the original Tweet that was retweeted."
   ]
  }
 ],
 "metadata": {
  "kernelspec": {
   "display_name": "Python 3",
   "language": "python",
   "name": "python3"
  },
  "language_info": {
   "codemirror_mode": {
    "name": "ipython",
    "version": 3
   },
   "file_extension": ".py",
   "mimetype": "text/x-python",
   "name": "python",
   "nbconvert_exporter": "python",
   "pygments_lexer": "ipython3",
   "version": "3.6.4"
  }
 },
 "nbformat": 4,
 "nbformat_minor": 2
}
