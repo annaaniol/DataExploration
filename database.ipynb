{
 "cells": [
  {
   "cell_type": "code",
   "execution_count": 128,
   "metadata": {},
   "outputs": [],
   "source": [
    "import csv\n",
    "from sqlalchemy import create_engine\n",
    "from sqlalchemy.orm import sessionmaker\n",
    "import pandas as pd\n",
    "import os.path\n",
    "\n",
    "data_sufix = 'data/'"
   ]
  },
  {
   "cell_type": "code",
   "execution_count": 129,
   "metadata": {},
   "outputs": [],
   "source": [
    "# configure Session class with desired options\n",
    "Session = sessionmaker()\n",
    "engine = create_engine('sqlite:///twitter.db')"
   ]
  },
  {
   "cell_type": "code",
   "execution_count": null,
   "metadata": {},
   "outputs": [],
   "source": []
  },
  {
   "cell_type": "code",
   "execution_count": 130,
   "metadata": {},
   "outputs": [],
   "source": [
    "hashtags = ['h1b', 'usvisa', 'immigrationreform', 'illegalImmigration', 'immigration',\n",
    "'immigrantcaravan', 'caravaninvasion', 'buildthewall']\n",
    "remaining_hashtags = ['illegalaliens', 'birthrightcitizenship']\n",
    "hashtagsDict = {'name': hashtags}"
   ]
  },
  {
   "cell_type": "code",
   "execution_count": 131,
   "metadata": {},
   "outputs": [],
   "source": [
    "hashtagData = pd.DataFrame.from_dict(hashtagsDict)\n",
    "hashtagData.to_sql('hashtag', engine, if_exists='replace', index=True, index_label='id')"
   ]
  },
  {
   "cell_type": "code",
   "execution_count": null,
   "metadata": {},
   "outputs": [],
   "source": []
  },
  {
   "cell_type": "code",
   "execution_count": 132,
   "metadata": {},
   "outputs": [],
   "source": [
    "for hashtag in hashtags:\n",
    "    \n",
    "    hashtag_id = pd.read_sql_query('SELECT id FROM hashtag WHERE hashtag.name=\"'+hashtag+'\"', engine).values[0][0]\n",
    "\n",
    "    tweetData = pd.read_csv(data_sufix+hashtag+'-tweet.csv', \n",
    "                            usecols=['tweet_id','tweet_text','tweet_created_at','tweet_retweet_count',\n",
    "                                     'tweet_favorite_count','user_id'])\n",
    "    tweetData['hashtag_id'] = hashtag_id\n",
    "    \n",
    "    retweetData = pd.read_csv(data_sufix+hashtag+'-retweet.csv', \n",
    "                              usecols=['retweet_id','source_tweet_id','retweet_text','retweet_created_at','user_id'])\n",
    "    \n",
    "    tweetData.to_sql('tweet', engine, if_exists='append')\n",
    "    retweetData.to_sql('retweet', engine, if_exists='append')"
   ]
  },
  {
   "cell_type": "code",
   "execution_count": 133,
   "metadata": {},
   "outputs": [],
   "source": [
    "userData = pd.read_csv(data_sufix+'user.csv', \n",
    "                        usecols=['user_id','user_name','user_location','user_friends_count','followers_count'])\n",
    "\n",
    "userData.to_sql('user', engine, if_exists='append')"
   ]
  },
  {
   "cell_type": "code",
   "execution_count": 134,
   "metadata": {},
   "outputs": [],
   "source": [
    "# associate it with our custom Session class\n",
    "Session.configure(bind=engine)"
   ]
  },
  {
   "cell_type": "code",
   "execution_count": null,
   "metadata": {},
   "outputs": [],
   "source": []
  }
 ],
 "metadata": {
  "kernelspec": {
   "display_name": "Python 3",
   "language": "python",
   "name": "python3"
  },
  "language_info": {
   "codemirror_mode": {
    "name": "ipython",
    "version": 3
   },
   "file_extension": ".py",
   "mimetype": "text/x-python",
   "name": "python",
   "nbconvert_exporter": "python",
   "pygments_lexer": "ipython3",
   "version": "3.6.4"
  }
 },
 "nbformat": 4,
 "nbformat_minor": 2
}
