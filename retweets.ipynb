{
 "cells": [
  {
   "cell_type": "code",
   "execution_count": 4,
   "metadata": {},
   "outputs": [],
   "source": [
    "import tweepy\n",
    "import csv\n",
    "from sqlalchemy import create_engine\n",
    "from sqlalchemy.orm import sessionmaker\n",
    "import pandas as pd\n",
    "from sqlalchemy import create_engine\n",
    "from sqlalchemy.orm import sessionmaker\n",
    "\n",
    "\n",
    "\n",
    "auth = tweepy.OAuthHandler(consumer_key, consumer_secret)\n",
    "auth.set_access_token(access_token, access_token_secret)\n",
    "api = tweepy.API(auth,wait_on_rate_limit=True)"
   ]
  },
  {
   "cell_type": "code",
   "execution_count": 5,
   "metadata": {},
   "outputs": [],
   "source": [
    "Session = sessionmaker()\n",
    "engine = create_engine('sqlite:///twitter.db')\n",
    "Session.configure(bind=engine)"
   ]
  },
  {
   "cell_type": "code",
   "execution_count": 6,
   "metadata": {},
   "outputs": [],
   "source": [
    "hashtags = ['h1b', 'visa']"
   ]
  },
  {
   "cell_type": "code",
   "execution_count": null,
   "metadata": {},
   "outputs": [],
   "source": [
    "for hashtag in hashtags:\n",
    "    with open(hashtag+'.csv', 'r') as csvfile, open(hashtag+'-retweets.csv', 'a') as csvRetweetsFile:\n",
    "        csvRetweetsWriter = csv.writer(csvRetweetsFile)\n",
    "        spamreader = csv.reader(csvfile, delimiter=',')\n",
    "        next(spamreader) # skip header\n",
    "        for tweet in spamreader:\n",
    "            if(len(tweet)>0):\n",
    "                print(\"Looking for retweets of\", tweet[0]) # tweet id\n",
    "                retweets = [status for status in api.retweets(id=tweet[0])]\n",
    "                if len(retweets)>0:\n",
    "                    print(\"Found\", len(retweets))\n",
    "                    for retweet in retweets:\n",
    "                        print(\"Retweet: \", retweet.id)\n",
    "                        csvRetweetsWriter.writerow([retweet.id, retweet.retweeted_status.id, retweet.text.encode(\"utf-8\"),\n",
    "                        retweet.created_at, retweet.user.id])"
   ]
  },
  {
   "cell_type": "code",
   "execution_count": 52,
   "metadata": {},
   "outputs": [],
   "source": [
    "csvfile.close()\n",
    "csvRetweetsFile.close()"
   ]
  },
  {
   "cell_type": "code",
   "execution_count": 54,
   "metadata": {},
   "outputs": [],
   "source": [
    "for hashtag in hashtags:\n",
    "    tweetData = pd.read_csv(hashtag+'.csv', usecols=['tweet_id', 'retweeted', 'user_id', 'tweet_text','tweet_created_at','tweet_retweet_count','tweet_favorite_count'])\n",
    "    userData = pd.read_csv(hashtag+'.csv', usecols=['user_id','user_name','user_location','user_friends_count'])\n",
    "    retweetData = pd.read_csv(hashtag+'-retweets.csv', usecols=['retweet_id','source_tweet_id','tweet_text','tweet_created_at', 'user_id'])\n",
    "\n",
    "    tweetData.to_sql('tweet', engine, if_exists='append')\n",
    "    userData.to_sql('user', engine, if_exists='append')\n",
    "    retweetData.to_sql('retweet', engine, if_exists='append')"
   ]
  },
  {
   "cell_type": "code",
   "execution_count": 23,
   "metadata": {},
   "outputs": [
    {
     "name": "stdout",
     "output_type": "stream",
     "text": [
      "  hashtag  COUNT(DISTINCT tweet_id)\n",
      "0     h1b                      1039\n",
      "1    visa                      1703\n"
     ]
    }
   ],
   "source": [
    "resAll = pd.read_sql_query('SELECT hashtag, COUNT(DISTINCT tweet_id) \\\n",
    "FROM tweet \\\n",
    "GROUP BY hashtag', engine)\n",
    "print(resAll)"
   ]
  },
  {
   "cell_type": "code",
   "execution_count": 7,
   "metadata": {},
   "outputs": [
    {
     "name": "stdout",
     "output_type": "stream",
     "text": [
      "   COUNT(DISTINCT tweet_id) DATE(tweet_created_at)\n",
      "0                       183             2018-10-20\n",
      "1                       176             2018-10-21\n",
      "2                       253             2018-10-22\n",
      "3                       418             2018-10-23\n",
      "4                         9             2018-10-24\n"
     ]
    }
   ],
   "source": [
    "resH1b = pd.read_sql_query('SELECT COUNT(DISTINCT tweet_id), DATE(tweet_created_at) \\\n",
    "FROM tweet \\\n",
    "WHERE tweet.hashtag = \\'h1b\\' \\\n",
    "GROUP BY DATE(tweet_created_at) ', engine)\n",
    "print(resH1b)"
   ]
  },
  {
   "cell_type": "code",
   "execution_count": 8,
   "metadata": {},
   "outputs": [
    {
     "name": "stdout",
     "output_type": "stream",
     "text": [
      "   COUNT(DISTINCT tweet_id) DATE(tweet_created_at)\n",
      "0                       266             2018-10-20\n",
      "1                       146             2018-10-21\n",
      "2                       445             2018-10-22\n",
      "3                       456             2018-10-23\n",
      "4                       390             2018-10-24\n"
     ]
    }
   ],
   "source": [
    "resVisa = pd.read_sql_query('SELECT COUNT(DISTINCT tweet_id), DATE(tweet_created_at) \\\n",
    "FROM tweet \\\n",
    "WHERE tweet.hashtag = \\'visa\\' \\\n",
    "GROUP BY DATE(tweet_created_at) ', engine)\n",
    "print(resVisa)"
   ]
  },
  {
   "cell_type": "code",
   "execution_count": 9,
   "metadata": {},
   "outputs": [
    {
     "name": "stdout",
     "output_type": "stream",
     "text": [
      "  hashtag  COUNT(DISTINCT user.user_id)\n",
      "0     h1b                           413\n",
      "1    visa                          1254\n"
     ]
    }
   ],
   "source": [
    "resUser = pd.read_sql_query('SELECT tweet.hashtag, COUNT(DISTINCT user.user_id) FROM user \\\n",
    "INNER JOIN tweet ON tweet.user_id = user.user_id \\\n",
    "GROUP BY tweet.hashtag', engine)\n",
    "print(resUser)"
   ]
  },
  {
   "cell_type": "code",
   "execution_count": 13,
   "metadata": {},
   "outputs": [
    {
     "name": "stdout",
     "output_type": "stream",
     "text": [
      "(  hashtag  COUNT(DISTINCT retweet.retweet_id)\n",
      "0     h1b                                  64,)\n"
     ]
    }
   ],
   "source": [
    "resRetweet = pd.read_sql_query('SELECT tweet.hashtag, COUNT(DISTINCT retweet.retweet_id) FROM retweet \\\n",
    "INNER JOIN tweet ON tweet.tweet_id = retweet.source_tweet_id \\\n",
    "GROUP BY tweet.hashtag', engine),\n",
    "print(resRetweet)"
   ]
  },
  {
   "cell_type": "code",
   "execution_count": 16,
   "metadata": {},
   "outputs": [
    {
     "name": "stdout",
     "output_type": "stream",
     "text": [
      "               tweet_id DATE(tweet.tweet_created_at)  user_friends_count  \\\n",
      "0   1053685028125884417                   2018-10-20                  82   \n",
      "1   1053719282281078784                   2018-10-20                 398   \n",
      "2   1053748203617607680                   2018-10-20                 728   \n",
      "3   1053706908127780864                   2018-10-20                 728   \n",
      "4   1053710745899167744                   2018-10-20                 210   \n",
      "5   1053688093860073472                   2018-10-20                  82   \n",
      "6   1053712251591348224                   2018-10-20                 144   \n",
      "7   1053768308317659137                   2018-10-20                 144   \n",
      "8   1053783521561432065                   2018-10-20                 325   \n",
      "9   1053675634017239040                   2018-10-20                 728   \n",
      "10  1053714186981715968                   2018-10-20                 144   \n",
      "11  1053685031690997760                   2018-10-20                  82   \n",
      "12  1053686903151755264                   2018-10-20                  82   \n",
      "13  1053695090550546432                   2018-10-20                 180   \n",
      "14  1053709423795785729                   2018-10-20                 144   \n",
      "15  1053712939302060032                   2018-10-20                 210   \n",
      "16  1053722661019242496                   2018-10-20                 144   \n",
      "17  1053726960038248448                   2018-10-20                4726   \n",
      "\n",
      "    COUNT(DISTINCT retweet.retweet_id)  \n",
      "0                                   13  \n",
      "1                                   11  \n",
      "2                                    8  \n",
      "3                                    5  \n",
      "4                                    4  \n",
      "5                                    3  \n",
      "6                                    3  \n",
      "7                                    3  \n",
      "8                                    3  \n",
      "9                                    2  \n",
      "10                                   2  \n",
      "11                                   1  \n",
      "12                                   1  \n",
      "13                                   1  \n",
      "14                                   1  \n",
      "15                                   1  \n",
      "16                                   1  \n",
      "17                                   1  \n"
     ]
    }
   ],
   "source": [
    "# Korelacja pomiędzy liczbą retweetów posta a firends_count usera\n",
    "# Wskazanie kiedy powstały posty, które najczęściej retweetowano\n",
    "\n",
    "resRetweetUserFriends = pd.read_sql_query('SELECT tweet.tweet_id, DATE(tweet.tweet_created_at), user.user_friends_count, COUNT(DISTINCT retweet.retweet_id) FROM retweet \\\n",
    "INNER JOIN tweet ON tweet.tweet_id = retweet.source_tweet_id \\\n",
    "INNER JOIN user ON user.user_id = tweet.user_id \\\n",
    "GROUP BY tweet.tweet_id \\\n",
    "ORDER BY COUNT(DISTINCT retweet.retweet_id) DESC', engine)\n",
    "print(resRetweetUserFriends)"
   ]
  },
  {
   "cell_type": "code",
   "execution_count": 17,
   "metadata": {},
   "outputs": [
    {
     "name": "stdout",
     "output_type": "stream",
     "text": [
      "   AVG(user_friends_count)\n",
      "0              1939.257476\n"
     ]
    }
   ],
   "source": [
    "resAvgFriends = pd.read_sql_query('SELECT AVG(user_friends_count) FROM user', engine)\n",
    "print(resAvgFriends)"
   ]
  },
  {
   "cell_type": "code",
   "execution_count": 21,
   "metadata": {},
   "outputs": [
    {
     "name": "stdout",
     "output_type": "stream",
     "text": [
      "               user_id  user_friends_count  Total retweets of users posts  \\\n",
      "0   860301272376803332                  82                             18   \n",
      "1           4037632102                 728                             15   \n",
      "2  1000232495764426752                 398                             11   \n",
      "3            141612654                 144                              7   \n",
      "4             32739094                 210                              5   \n",
      "5   849491378325401600                 325                              3   \n",
      "6  1025796691461591041                 144                              3   \n",
      "7            123283283                 180                              1   \n",
      "8            881604271                4726                              1   \n",
      "\n",
      "   Users distinct posts that got retweeted  \n",
      "0                                        4  \n",
      "1                                        3  \n",
      "2                                        1  \n",
      "3                                        4  \n",
      "4                                        2  \n",
      "5                                        1  \n",
      "6                                        1  \n",
      "7                                        1  \n",
      "8                                        1  \n"
     ]
    }
   ],
   "source": [
    "# Korelacja pomiędzy friends_count usera a łączną liczbą retweetów postów usera\n",
    "# Wyłonienie najbardziej wpływowych użytkowników sieci\n",
    "resRetweetUserFriends = pd.read_sql_query('SELECT user.user_id, user.user_friends_count, \\\n",
    "COUNT(DISTINCT retweet.retweet_id) AS \\'Total retweets of users posts\\', \\\n",
    "COUNT(DISTINCT tweet.tweet_id) AS \\'Users distinct posts that got retweeted\\' \\\n",
    "FROM retweet \\\n",
    "INNER JOIN tweet ON retweet.source_tweet_id = tweet.tweet_id \\\n",
    "INNER JOIN user ON tweet.user_id = user.user_id \\\n",
    "GROUP BY(user.user_id) \\\n",
    "ORDER BY COUNT(DISTINCT retweet.retweet_id) DESC', engine)\n",
    "print(resRetweetUserFriends)"
   ]
  },
  {
   "cell_type": "code",
   "execution_count": null,
   "metadata": {},
   "outputs": [],
   "source": []
  }
 ],
 "metadata": {
  "kernelspec": {
   "display_name": "Python 3",
   "language": "python",
   "name": "python3"
  },
  "language_info": {
   "codemirror_mode": {
    "name": "ipython",
    "version": 3
   },
   "file_extension": ".py",
   "mimetype": "text/x-python",
   "name": "python",
   "nbconvert_exporter": "python",
   "pygments_lexer": "ipython3",
   "version": "3.6.4"
  }
 },
 "nbformat": 4,
 "nbformat_minor": 2
}
