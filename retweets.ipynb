{
 "cells": [
  {
   "cell_type": "code",
   "execution_count": 9,
   "metadata": {},
   "outputs": [],
   "source": [
    "import tweepy\n",
    "import csv\n",
    "from sqlalchemy import create_engine\n",
    "from sqlalchemy.orm import sessionmaker\n",
    "import pandas as pd\n",
    "from sqlalchemy import create_engine\n",
    "from sqlalchemy.orm import sessionmaker\n",
    "\n",
    "# keys\n",
    "\n",
    "\n",
    "auth = tweepy.OAuthHandler(consumer_key, consumer_secret)\n",
    "auth.set_access_token(access_token, access_token_secret)\n",
    "api = tweepy.API(auth,wait_on_rate_limit=True)"
   ]
  },
  {
   "cell_type": "code",
   "execution_count": 7,
   "metadata": {},
   "outputs": [],
   "source": [
    "Session = sessionmaker()\n",
    "engine = create_engine('sqlite:///twitter.db')\n",
    "Session.configure(bind=engine)"
   ]
  },
  {
   "cell_type": "code",
   "execution_count": null,
   "metadata": {},
   "outputs": [],
   "source": [
    "hashtags = ['h1b']\n",
    "\n",
    "for hashtag in hashtags:\n",
    "    with open(hashtag+'.csv', 'r') as csvfile, open(hashtag+'-retweets.csv', 'a') as csvRetweetsFile:\n",
    "        csvRetweetsWriter = csv.writer(csvRetweetsFile)\n",
    "        spamreader = csv.reader(csvfile, delimiter=',')\n",
    "        next(spamreader) # skip header\n",
    "        for tweet in spamreader:\n",
    "            if(len(tweet)>0):\n",
    "                print(\"Looking for retweets of\", tweet[0]) # tweet id\n",
    "                retweets = [status for status in api.retweets(id=tweet[0])]\n",
    "                if len(retweets)>0:\n",
    "                    print(\"Found\", len(retweets))\n",
    "                    for retweet in retweets:\n",
    "                        print(\"Retweet: \", retweet.id)\n",
    "                        csvRetweetsWriter.writerow([retweet.id, retweet.retweeted_status.id, retweet.text.encode(\"utf-8\"),\n",
    "                        retweet.created_at, retweet.user.id])"
   ]
  },
  {
   "cell_type": "code",
   "execution_count": 52,
   "metadata": {},
   "outputs": [],
   "source": [
    "csvfile.close()\n",
    "csvRetweetsFile.close()"
   ]
  },
  {
   "cell_type": "code",
   "execution_count": 54,
   "metadata": {},
   "outputs": [],
   "source": [
    "for hashtag in hashtags:\n",
    "    tweetData = pd.read_csv(hashtag+'.csv', usecols=['tweet_id', 'retweeted', 'user_id', 'tweet_text','tweet_created_at','tweet_retweet_count','tweet_favorite_count'])\n",
    "    userData = pd.read_csv(hashtag+'.csv', usecols=['user_id','user_name','user_location','user_friends_count'])\n",
    "    placeData = pd.read_csv(hashtag+'.csv', usecols=['place_type','place_full_name','country'])\n",
    "\n",
    "    retweetData = pd.read_csv(hashtag+'-retweets.csv', usecols=['retweet_id','source_tweet_id','tweet_text','tweet_created_at', 'user_id'])\n",
    "\n",
    "    tweetData.to_sql('tweet', engine, if_exists='append')\n",
    "    userData.to_sql('user', engine, if_exists='append')\n",
    "    placeData.to_sql('place', engine, if_exists='append')\n",
    "    retweetData.to_sql('retweet', engine, if_exists='append')"
   ]
  },
  {
   "cell_type": "code",
   "execution_count": 55,
   "metadata": {},
   "outputs": [
    {
     "name": "stdout",
     "output_type": "stream",
     "text": [
      "Number of tweets:     COUNT(*)\n",
      "0     13292\n"
     ]
    }
   ],
   "source": [
    "res1 = pd.read_sql_query('SELECT COUNT(*) FROM tweet', engine)\n",
    "print(\"Number of tweets: \", res1)"
   ]
  },
  {
   "cell_type": "code",
   "execution_count": 56,
   "metadata": {},
   "outputs": [
    {
     "name": "stdout",
     "output_type": "stream",
     "text": [
      "Number of users:     COUNT(DISTINCT user_id)\n",
      "0                      415\n"
     ]
    }
   ],
   "source": [
    "res2 = pd.read_sql_query('SELECT COUNT(DISTINCT user_id) FROM user', engine)\n",
    "print(\"Number of users: \", res2)"
   ]
  },
  {
   "cell_type": "code",
   "execution_count": 57,
   "metadata": {},
   "outputs": [
    {
     "name": "stdout",
     "output_type": "stream",
     "text": [
      "Number of locations:     COUNT(DISTINCT place_full_name)\n",
      "0                                2\n"
     ]
    }
   ],
   "source": [
    "res3 = pd.read_sql_query('SELECT COUNT(DISTINCT place_full_name) FROM place', engine)\n",
    "print(\"Number of locations: \", res3)"
   ]
  },
  {
   "cell_type": "code",
   "execution_count": 59,
   "metadata": {},
   "outputs": [
    {
     "name": "stdout",
     "output_type": "stream",
     "text": [
      "Number of retweets:     COUNT(DISTINCT retweet_id)\n",
      "0                          64\n"
     ]
    }
   ],
   "source": [
    "res4 = pd.read_sql_query('SELECT COUNT(DISTINCT retweet_id) FROM retweet', engine)\n",
    "print(\"Number of retweets: \", res4)"
   ]
  },
  {
   "cell_type": "code",
   "execution_count": 64,
   "metadata": {},
   "outputs": [
    {
     "name": "stdout",
     "output_type": "stream",
     "text": [
      "               tweet_id           retweet_id\n",
      "0   1053783521561432065  1054238646235148289\n",
      "1   1053783521561432065  1054034038309056512\n",
      "2   1053783521561432065  1054017146391588866\n",
      "3   1053768308317659137  1056081594895687680\n",
      "4   1053768308317659137  1053891201907204096\n",
      "5   1053768308317659137  1053824830716461056\n",
      "6   1053748203617607680  1055615057047027713\n",
      "7   1053748203617607680  1055613592043540480\n",
      "8   1053748203617607680  1055578726568734725\n",
      "9   1053748203617607680  1055562036934074379\n",
      "10  1053748203617607680  1055545771792064512\n",
      "11  1053748203617607680  1055543886498619392\n",
      "12  1053748203617607680  1053832037591707648\n",
      "13  1053748203617607680  1053758188430995456\n",
      "14  1053726960038248448  1053832128641687553\n",
      "15  1053722661019242496  1053841921540481024\n",
      "16  1053719282281078784  1054190612789059585\n",
      "17  1053719282281078784  1054099110360309760\n",
      "18  1053719282281078784  1053896283247775744\n",
      "19  1053719282281078784  1053894271303065600\n",
      "20  1053719282281078784  1053880200088285184\n",
      "21  1053719282281078784  1053834633652133888\n",
      "22  1053719282281078784  1053748400204656640\n",
      "23  1053719282281078784  1053736534124285952\n",
      "24  1053719282281078784  1053722658473295872\n",
      "25  1053719282281078784  1053719910478692352\n",
      "26  1053719282281078784  1053719509645824001\n",
      "27  1053714186981715968  1053891905602371584\n",
      "28  1053714186981715968  1053841748504469504\n",
      "29  1053712939302060032  1053803531805822976\n",
      "..                  ...                  ...\n",
      "34  1053710745899167744  1053804308695642112\n",
      "35  1053710745899167744  1053803449752547329\n",
      "36  1053710745899167744  1053803371864473600\n",
      "37  1053709423795785729  1053892046149337088\n",
      "38  1053706908127780864  1054194497641439233\n",
      "39  1053706908127780864  1054071886466867200\n",
      "40  1053706908127780864  1054065868781600774\n",
      "41  1053706908127780864  1054051595820957697\n",
      "42  1053706908127780864  1053907737841725442\n",
      "43  1053695090550546432  1053700891889459200\n",
      "44  1053688093860073472  1053925886578298881\n",
      "45  1053688093860073472  1053894615311507456\n",
      "46  1053688093860073472  1053871771227701248\n",
      "47  1053686903151755264  1053690991897600001\n",
      "48  1053685031690997760  1053695136138321920\n",
      "49  1053685028125884417  1054758380575825920\n",
      "50  1053685028125884417  1053893951068033025\n",
      "51  1053685028125884417  1053891970689572864\n",
      "52  1053685028125884417  1053881689435463680\n",
      "53  1053685028125884417  1053880072162045952\n",
      "54  1053685028125884417  1053834403762356229\n",
      "55  1053685028125884417  1053834201122959360\n",
      "56  1053685028125884417  1053830515864690689\n",
      "57  1053685028125884417  1053814464489807872\n",
      "58  1053685028125884417  1053758006029094913\n",
      "59  1053685028125884417  1053756702955372546\n",
      "60  1053685028125884417  1053733313586909184\n",
      "61  1053685028125884417  1053694534368940032\n",
      "62  1053675634017239040  1053702332775489536\n",
      "63  1053675634017239040  1053700562905001984\n",
      "\n",
      "[64 rows x 2 columns]\n"
     ]
    }
   ],
   "source": [
    "res4 = pd.read_sql_query('SELECT DISTINCT tweet.tweet_id, retweet.retweet_id FROM retweet \\\n",
    "LEFT OUTER JOIN tweet \\\n",
    "ON tweet.tweet_id = retweet.source_tweet_id', engine)\n",
    "print(res4)"
   ]
  },
  {
   "cell_type": "code",
   "execution_count": null,
   "metadata": {},
   "outputs": [],
   "source": []
  }
 ],
 "metadata": {
  "kernelspec": {
   "display_name": "Python 3",
   "language": "python",
   "name": "python3"
  },
  "language_info": {
   "codemirror_mode": {
    "name": "ipython",
    "version": 3
   },
   "file_extension": ".py",
   "mimetype": "text/x-python",
   "name": "python",
   "nbconvert_exporter": "python",
   "pygments_lexer": "ipython3",
   "version": "3.6.4"
  }
 },
 "nbformat": 4,
 "nbformat_minor": 2
}
